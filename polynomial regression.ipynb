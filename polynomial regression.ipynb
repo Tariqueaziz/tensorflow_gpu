{
 "cells": [
  {
   "cell_type": "code",
   "execution_count": 1,
   "metadata": {},
   "outputs": [],
   "source": [
    "import tensorflow as tf\n",
    "import numpy as np\n",
    "from sklearn.preprocessing import StandardScaler\n",
    "import pylab as plt\n",
    "np.random.seed(10)"
   ]
  },
  {
   "cell_type": "code",
   "execution_count": 2,
   "metadata": {},
   "outputs": [],
   "source": [
    "learning_rate = 0.01\n",
    "training_steps = 50000\n",
    "display_step = 1000"
   ]
  },
  {
   "cell_type": "code",
   "execution_count": 3,
   "metadata": {},
   "outputs": [],
   "source": [
    "X = np.array([3.3,4.4,5.5,6.71,6.93,4.168,9.779,6.182,7.59,2.167,7.042,10.791,5.313,7.997,5.654,9.27,3.1], dtype=\"float32\")\n",
    "Xs = StandardScaler().fit_transform(X.reshape(-1, 1))\n",
    "\n",
    "Y = X*X - 10*X + 10 + 5 * np.random.random(len(X))\n",
    "# Y = np.array([1.7,2.76,2.09,3.19,1.694,1.573,3.366,2.596,2.53,1.221,2.827,3.465,1.65,2.904,2.42,2.94,1.3], dtype=\"float32\")\n",
    "# Y = Y.reshape(-1,1)"
   ]
  },
  {
   "cell_type": "code",
   "execution_count": 4,
   "metadata": {},
   "outputs": [],
   "source": [
    "W1 = tf.Variable(np.random.randn(), name=\"weight1\", dtype=\"float32\")\n",
    "W2 = tf.Variable(np.random.randn(), name=\"weight1\", dtype=\"float32\")\n",
    "W3 = tf.Variable(np.random.randn(), name=\"weight2\")\n",
    "b = tf.Variable(np.random.randn(), name=\"bias\")\n",
    "\n",
    "def quad_regression(x):\n",
    "    return W1 * pow(x, 3) + W2 * tf.pow(x,2) + W3 * x + b\n",
    "\n",
    "# Mean square error.\n",
    "def mean_square(y_pred, y_true):\n",
    "    return tf.reduce_mean(tf.square(y_pred - y_true))\n",
    "\n",
    "# Stochastic Gradient Descent Optimizer.\n",
    "optimizer = tf.optimizers.Adadelta(learning_rate)"
   ]
  },
  {
   "cell_type": "code",
   "execution_count": 5,
   "metadata": {},
   "outputs": [],
   "source": [
    "def run_optimization():\n",
    "    # Wrap computation inside a GradientTape for automatic differentiation.\n",
    "    with tf.GradientTape() as g:\n",
    "        pred = quad_regression(X)\n",
    "#         print(pred)\n",
    "        loss = mean_square(pred, Y)\n",
    "\n",
    "    # Compute gradients.\n",
    "    gradients = g.gradient(loss, [W1, W2, W3, b])\n",
    "    \n",
    "    # Update W and b following gradients.\n",
    "    optimizer.apply_gradients(zip(gradients, [W1, W2, W3, b]))"
   ]
  },
  {
   "cell_type": "code",
   "execution_count": 6,
   "metadata": {},
   "outputs": [
    {
     "name": "stdout",
     "output_type": "stream",
     "text": [
      "step: 1000 , loss:  142.47427 , W1, W2, W3, b:  0.44852713 -0.2550781 -0.2550781 1.7625791\n",
      "step: 2000 , loss:  141.29956 , W1, W2, W3, b:  0.41917986 -0.28443313 -0.28443313 1.7331921\n",
      "step: 3000 , loss:  139.96846 , W1, W2, W3, b:  0.38485926 -0.31877083 -0.31877083 1.6987809\n",
      "step: 4000 , loss:  138.57373 , W1, W2, W3, b:  0.3475575 -0.35610345 -0.35610345 1.6613159\n",
      "step: 5000 , loss:  137.18108 , W1, W2, W3, b:  0.30877912 -0.394931 -0.394931 1.6222802\n",
      "step: 6000 , loss:  135.83804 , W1, W2, W3, b:  0.26975816 -0.4340268 -0.4340268 1.582868\n",
      "step: 7000 , loss:  134.57927 , W1, W2, W3, b:  0.23154645 -0.4723406 -0.4723406 1.5441178\n",
      "step: 8000 , loss:  133.42892 , W1, W2, W3, b:  0.19508019 -0.5089473 -0.5089473 1.5069141\n",
      "step: 9000 , loss:  132.40361 , W1, W2, W3, b:  0.16122028 -0.5429991 -0.5429991 1.4720515\n",
      "step: 10000 , loss:  131.51486 , W1, W2, W3, b:  0.13081303 -0.5736726 -0.5736726 1.440263\n",
      "step: 11000 , loss:  130.7719 , W1, W2, W3, b:  0.10479224 -0.6000835 -0.6000835 1.4122503\n",
      "step: 12000 , loss:  130.18501 , W1, W2, W3, b:  0.084434055 -0.62110317 -0.62110317 1.3886714\n",
      "step: 13000 , loss:  129.76447 , W1, W2, W3, b:  0.07261189 -0.63498867 -0.63498867 1.3694623\n",
      "step: 14000 , loss:  129.29492 , W1, W2, W3, b:  0.07427844 -0.6517777 -0.6517777 1.3464042\n",
      "step: 15000 , loss:  128.63417 , W1, W2, W3, b:  0.07753841 -0.6783296 -0.6783296 1.3157508\n",
      "step: 16000 , loss:  127.873474 , W1, W2, W3, b:  0.081426784 -0.70997643 -0.70997643 1.2804133\n",
      "step: 17000 , loss:  127.06712 , W1, W2, W3, b:  0.08562404 -0.74408644 -0.74408644 1.2422462\n",
      "step: 18000 , loss:  126.25426 , W1, W2, W3, b:  0.089887105 -0.77863693 -0.77863693 1.2026062\n",
      "step: 19000 , loss:  125.46468 , W1, W2, W3, b:  0.09400767 -0.81187326 -0.81187326 1.1625191\n",
      "step: 20000 , loss:  124.72129 , W1, W2, W3, b:  0.09779038 -0.84212106 -0.84212106 1.1226807\n",
      "step: 21000 , loss:  124.041954 , W1, W2, W3, b:  0.10104378 -0.8677041 -0.8677041 1.0834968\n",
      "step: 22000 , loss:  123.436646 , W1, W2, W3, b:  0.103607975 -0.88719636 -0.88719636 1.0449907\n",
      "step: 23000 , loss:  122.89965 , W1, W2, W3, b:  0.10546266 -0.90043736 -0.90043736 1.0068465\n",
      "step: 24000 , loss:  122.40989 , W1, W2, W3, b:  0.10677092 -0.9089951 -0.9089951 0.96871513\n",
      "step: 25000 , loss:  121.951866 , W1, W2, W3, b:  0.10765266 -0.914109 -0.914109 0.9304271\n",
      "step: 26000 , loss:  121.52654 , W1, W2, W3, b:  0.10801614 -0.9149604 -0.9149604 0.8915844\n",
      "step: 27000 , loss:  121.12253 , W1, W2, W3, b:  0.10790563 -0.91175425 -0.91175425 0.8513475\n",
      "step: 28000 , loss:  120.717804 , W1, W2, W3, b:  0.10756341 -0.9065407 -0.9065407 0.80927575\n",
      "step: 29000 , loss:  120.30385 , W1, W2, W3, b:  0.1071407 -0.9006395 -0.9006395 0.7655705\n",
      "step: 30000 , loss:  119.881836 , W1, W2, W3, b:  0.10669363 -0.8945486 -0.8945486 0.720698\n",
      "step: 31000 , loss:  119.455894 , W1, W2, W3, b:  0.10624085 -0.88843703 -0.88843703 0.67514944\n",
      "step: 32000 , loss:  119.03039 , W1, W2, W3, b:  0.105789185 -0.8823683 -0.8823683 0.6293722\n",
      "step: 33000 , loss:  118.60905 , W1, W2, W3, b:  0.10534157 -0.87637085 -0.87637085 0.5837376\n",
      "step: 34000 , loss:  118.195015 , W1, W2, W3, b:  0.10489968 -0.87046134 -0.87046134 0.5385561\n",
      "step: 35000 , loss:  117.79057 , W1, W2, W3, b:  0.104464725 -0.864652 -0.864652 0.494071\n",
      "step: 36000 , loss:  117.39748 , W1, W2, W3, b:  0.104037635 -0.85895115 -0.85895115 0.45047066\n",
      "step: 37000 , loss:  117.0169 , W1, W2, W3, b:  0.10361913 -0.85336566 -0.85336566 0.40789482\n",
      "step: 38000 , loss:  116.64959 , W1, W2, W3, b:  0.10320959 -0.847899 -0.847899 0.3664384\n",
      "step: 39000 , loss:  116.295876 , W1, W2, W3, b:  0.102809355 -0.8425532 -0.8425532 0.32615924\n",
      "step: 40000 , loss:  115.95579 , W1, W2, W3, b:  0.10241868 -0.8373293 -0.8373293 0.2870828\n",
      "step: 41000 , loss:  115.629166 , W1, W2, W3, b:  0.10203725 -0.8322239 -0.8322239 0.24921049\n",
      "step: 42000 , loss:  115.3155 , W1, W2, W3, b:  0.10166517 -0.8272372 -0.8272372 0.21252044\n",
      "step: 43000 , loss:  115.01435 , W1, W2, W3, b:  0.101302214 -0.8223646 -0.8223646 0.1769784\n",
      "step: 44000 , loss:  114.72513 , W1, W2, W3, b:  0.100947954 -0.817601 -0.817601 0.14253923\n",
      "step: 45000 , loss:  114.447174 , W1, W2, W3, b:  0.10060204 -0.8129398 -0.8129398 0.10915224\n",
      "step: 46000 , loss:  114.17988 , W1, W2, W3, b:  0.10026382 -0.808376 -0.808376 0.076763354\n",
      "step: 47000 , loss:  113.92254 , W1, W2, W3, b:  0.09993318 -0.803906 -0.803906 0.04531674\n",
      "step: 48000 , loss:  113.674576 , W1, W2, W3, b:  0.099609576 -0.7995243 -0.7995243 0.014759411\n",
      "step: 49000 , loss:  113.435394 , W1, W2, W3, b:  0.0992927 -0.79522586 -0.79522586 -0.014959663\n",
      "step: 50000 , loss:  113.20447 , W1, W2, W3, b:  0.09898211 -0.7910057 -0.7910057 -0.04388887\n"
     ]
    }
   ],
   "source": [
    "for step in range(1, training_steps + 1):\n",
    "    # Run the optimization to update W and b values.\n",
    "    run_optimization()\n",
    "    \n",
    "    if step % display_step == 0:\n",
    "        pred = quad_regression(Xs)\n",
    "        loss = mean_square(pred, Y)\n",
    "        print(\"step:\", str(step), \", loss: \", str(loss.numpy()), \", W1, W2, W3, b: \", W1.numpy(), W2.numpy(), W2.numpy(), b.numpy())"
   ]
  },
  {
   "cell_type": "code",
   "execution_count": 7,
   "metadata": {},
   "outputs": [
    {
     "data": {
      "image/png": "[encoded data removed]",
      "text/plain": [
       "<Figure size 432x288 with 1 Axes>"
      ]
     },
     "metadata": {
      "needs_background": "light"
     },
     "output_type": "display_data"
    }
   ],
   "source": [
    "plt.plot(X.reshape(-1,1), Y, 'ro', label='Original data')\n",
    "plt.plot(X.reshape(-1,1), np.array(W1 * X*X*X + W2 * X * X + W3 * X + b), 'bo',label='Fitted data')\n",
    "plt.legend()\n",
    "plt.show()"
   ]
  },
  {
   "cell_type": "code",
   "execution_count": null,
   "metadata": {},
   "outputs": [],
   "source": []
  }
 ],
 "metadata": {
  "kernelspec": {
   "display_name": "Python 3",
   "language": "python",
   "name": "python3"
  },
  "language_info": {
   "codemirror_mode": {
    "name": "ipython",
    "version": 3
   },
   "file_extension": ".py",
   "mimetype": "text/x-python",
   "name": "python",
   "nbconvert_exporter": "python",
   "pygments_lexer": "ipython3",
   "version": "3.8.6"
  }
 },
 "nbformat": 4,
 "nbformat_minor": 4
}
