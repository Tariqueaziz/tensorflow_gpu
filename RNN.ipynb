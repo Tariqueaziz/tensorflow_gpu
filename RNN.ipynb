{
 "cells": [
  {
   "cell_type": "code",
   "execution_count": 1,
   "metadata": {},
   "outputs": [],
   "source": [
    "import tensorflow as tf\n",
    "physical_devices = tf.config.list_physical_devices('GPU') \n",
    "tf.config.experimental.set_memory_growth(physical_devices[0], True)\n",
    "from tensorflow.keras import Model, layers\n",
    "import numpy as np\n",
    "import pandas as pd\n",
    "import pylab as plt\n",
    "from sklearn.model_selection import StratifiedShuffleSplit\n",
    "import seaborn as sns\n",
    "np.random.seed(2000)"
   ]
  },
  {
   "cell_type": "code",
   "execution_count": 2,
   "metadata": {},
   "outputs": [],
   "source": [
    "# from tensorflow.python.client import device_lib\n",
    "# print(device_lib.list_local_devices())"
   ]
  },
  {
   "cell_type": "markdown",
   "metadata": {},
   "source": [
    "# Toy example sequence of correlated numbers versus series of unrelated numbers\n",
    "****"
   ]
  },
  {
   "cell_type": "code",
   "execution_count": 3,
   "metadata": {},
   "outputs": [],
   "source": [
    "s_length = 10\n",
    "X = []\n",
    "c1, c2 = None, None\n",
    "for i in range(5000):\n",
    "    a = np.random.random(s_length)\n",
    "    b = a * 1 + np.random.random(s_length)\n",
    "    c = np.array(list(zip(a,b)))\n",
    "    X.append(c)\n",
    "#     print(np.shape(c1))\n",
    "\n",
    "\n",
    "for i in range(5000):\n",
    "    a = np.random.random(s_length)\n",
    "    b = 2 * np.random.random(s_length)\n",
    "    c = np.array(list(zip(a,b)))\n",
    "    X.append(c)\n",
    "\n",
    "X = np.array(X, dtype=np.float32)\n",
    "\n",
    "\n",
    "y = np.zeros(10000)\n",
    "y[5000:] = 1\n",
    "\n",
    "y = np.array(y, dtype=np.int64)\n",
    "# y = np.reshape(y, [-1, 1])\n",
    "# y = tf.keras.utils.to_categorical(y, num_classes=2, dtype='float32')\n",
    "# y"
   ]
  },
  {
   "cell_type": "markdown",
   "metadata": {},
   "source": [
    "## split data\n",
    "***"
   ]
  },
  {
   "cell_type": "code",
   "execution_count": 4,
   "metadata": {},
   "outputs": [],
   "source": [
    "sss = StratifiedShuffleSplit(n_splits=1, test_size=0.2)\n",
    "train_index, test_index = next(sss.split(X, y))\n",
    "x_train, y_train, x_test, y_test = X[train_index], y[train_index], X[test_index], y[test_index]\n",
    "sss = StratifiedShuffleSplit(n_splits=1, test_size=0.5)\n",
    "val_index, test_index = next(sss.split(x_test, y_test))\n",
    "x_val, y_val, x_test, y_test = x_test[val_index], y_test[val_index], x_test[test_index], y_test[test_index]"
   ]
  },
  {
   "cell_type": "code",
   "execution_count": 5,
   "metadata": {},
   "outputs": [
    {
     "name": "stdout",
     "output_type": "stream",
     "text": [
      "(8000, 10, 2) (8000,) (1000, 10, 2) (1000,) (1000, 10, 2) (1000,)\n"
     ]
    }
   ],
   "source": [
    "print(np.shape(x_train), np.shape(y_train), np.shape(x_val), np.shape(y_val), np.shape(x_test), np.shape(y_test))"
   ]
  },
  {
   "cell_type": "markdown",
   "metadata": {},
   "source": [
    "### Train functions\n",
    "***"
   ]
  },
  {
   "cell_type": "code",
   "execution_count": 6,
   "metadata": {},
   "outputs": [],
   "source": [
    "def cross_entropy_loss(logit_pred, label):\n",
    "    # Convert labels to int 64 for tf cross-entropy function.\n",
    "    label = tf.cast(label, tf.int64)\n",
    "    # Apply softmax to logits and compute cross-entropy.\n",
    "    loss = tf.nn.sparse_softmax_cross_entropy_with_logits(labels=label, logits=logit_pred)\n",
    "    # Average loss across the batch.\n",
    "    return tf.reduce_mean(loss)\n",
    "\n",
    "# Accuracy metric.\n",
    "def accuracy(y_pred, y_true):\n",
    "    # Predicted class is the index of highest score in prediction vector (i.e. argmax).\n",
    "    correct_prediction = tf.equal(tf.argmax(y_pred, 1), tf.cast(y_true, tf.int64))\n",
    "    return tf.reduce_mean(tf.cast(correct_prediction, tf.float32), axis=-1)\n",
    "\n",
    "def step_once(model, loss_f, x, y):\n",
    "    with tf.GradientTape() as g:\n",
    "        # Forward pass.\n",
    "        pred = model.call(x, is_training=True)\n",
    "        # Compute loss.\n",
    "        loss = loss_f(pred, y)\n",
    "        \n",
    "    trainable_variables = model.trainable_variables\n",
    "\n",
    "    # Compute gradients\n",
    "    gradients = g.gradient(loss, trainable_variables)\n",
    "    \n",
    "    # Update weights\n",
    "    optimizer.apply_gradients(zip(gradients, trainable_variables))\n",
    "\n",
    "def optimize(model, optimizer, train_data, x_val, y_val, training_steps, loss_f=cross_entropy_loss, metric_f=accuracy, metric_name=\"accuracy\", log_file=\"log.csv\", model_file=\"nn.chkp\"):\n",
    "    best_loss = float(\"inf\")\n",
    "    log = pd.DataFrame(columns=['step', 'metric', 'value'])\n",
    "    for i, (batch_x, batch_y) in enumerate(train_data.take(training_steps), 1):\n",
    "        # Run the optimization to update W and b values.\n",
    "        step_once(model, loss_f, batch_x, batch_y)\n",
    "\n",
    "        if i % display_step == 0:\n",
    "            pred = model(batch_x, is_training=True)\n",
    "            loss = loss_f(pred, batch_y)\n",
    "            metric = metric_f(pred, batch_y)\n",
    "            pred_val = model(x_val, is_training=True)\n",
    "            val_loss = loss_f(pred_val, y_val)\n",
    "            metric_val = metric_f(pred_val, y_val)\n",
    "            print(\"step: %i, loss: %f, %s: %f, Validation loss: %f, %s: %f\" % (i, loss.numpy(), metric_name, metric.numpy(), val_loss.numpy(), metric_name, metric_val.numpy()))\n",
    "            log = log.append({\"step\":i, \"metric\":\"train_loss\", \"value\": loss.numpy()}, ignore_index=True)\n",
    "            log = log.append({\"step\":i, \"metric\":'train_' + metric_name, \"value\": metric.numpy()}, ignore_index=True)\n",
    "            log = log.append({\"step\":i, \"metric\":\"val_loss\", \"value\": val_loss.numpy()}, ignore_index=True)\n",
    "            log = log.append({\"step\":i, \"metric\":'val_' + metric_name, \"value\": metric_val.numpy()}, ignore_index=True)\n",
    "            if(val_loss < best_loss):\n",
    "                best_loss = val_loss\n",
    "                model.save_weights(model_file)\n",
    "    log.to_csv(log_file, index=False)"
   ]
  },
  {
   "cell_type": "code",
   "execution_count": 7,
   "metadata": {},
   "outputs": [
    {
     "name": "stdout",
     "output_type": "stream",
     "text": [
      "step: 100, loss: 0.690272, accuracy: 0.539062, Validation loss: 0.693354, accuracy: 0.520000\n",
      "step: 200, loss: 0.689745, accuracy: 0.523438, Validation loss: 0.686692, accuracy: 0.558000\n",
      "step: 300, loss: 0.681662, accuracy: 0.546875, Validation loss: 0.676825, accuracy: 0.602000\n",
      "step: 400, loss: 0.662638, accuracy: 0.648438, Validation loss: 0.655984, accuracy: 0.708000\n",
      "step: 500, loss: 0.599338, accuracy: 0.808594, Validation loss: 0.601357, accuracy: 0.787000\n",
      "step: 600, loss: 0.472569, accuracy: 0.875000, Validation loss: 0.478327, accuracy: 0.854000\n",
      "step: 700, loss: 0.340698, accuracy: 0.878906, Validation loss: 0.315641, accuracy: 0.907000\n",
      "step: 800, loss: 0.228162, accuracy: 0.917969, Validation loss: 0.221708, accuracy: 0.926000\n",
      "step: 900, loss: 0.206736, accuracy: 0.917969, Validation loss: 0.179199, accuracy: 0.936000\n",
      "step: 1000, loss: 0.171863, accuracy: 0.945312, Validation loss: 0.153599, accuracy: 0.943000\n",
      "CPU times: user 6.3 s, sys: 433 ms, total: 6.73 s\n",
      "Wall time: 6.43 s\n"
     ]
    }
   ],
   "source": [
    "%%time\n",
    "class LSTM(Model):\n",
    "    # Set layers.\n",
    "    def __init__(self, n_units, num_classes):\n",
    "        super(LSTM, self).__init__()\n",
    "        # RNN (LSTM) hidden layer.\n",
    "        self.lstm_layer = layers.GRU(units=n_units, return_sequences=False)\n",
    "        self.flatten = layers.Flatten()\n",
    "        self.out = layers.Dense(num_classes)\n",
    "        \n",
    "\n",
    "    # Set forward pass.\n",
    "    def call(self, x, is_training=False):\n",
    "        # LSTM layer.\n",
    "        x = self.lstm_layer(x)\n",
    "        x = self.flatten(x)\n",
    "        # Output layer (num_classes).\n",
    "        x = self.out(x)\n",
    "        if not is_training:\n",
    "            # tf cross entropy expect logits without softmax, so only\n",
    "            # apply softmax when not training.\n",
    "            x = tf.nn.softmax(x)\n",
    "        return x\n",
    "    \n",
    "\n",
    "# Data parameters\n",
    "seed = 1000\n",
    "num_classes = 2\n",
    "\n",
    "# Training parameters.\n",
    "learning_rate = 0.1\n",
    "training_steps = 1000\n",
    "batch_size = 256\n",
    "display_step = 100\n",
    "prefetch = 1\n",
    "\n",
    "# Network parameters.\n",
    "n_unit = 5\n",
    "\n",
    "log_file='logs/rnn.csv'\n",
    "model_file = 'models/rnn.chkp'\n",
    "\n",
    "train_data = tf.data.Dataset.from_tensor_slices((x_train, y_train))\n",
    "train_data = train_data.repeat().shuffle(seed).batch(batch_size).prefetch(prefetch)\n",
    "\n",
    "model = LSTM(n_unit, num_classes)\n",
    "\n",
    "optimizer = tf.optimizers.SGD(learning_rate)\n",
    "\n",
    "optimize(model, optimizer, train_data, x_val, y_val, training_steps, loss_f=cross_entropy_loss, metric_f=accuracy, metric_name=\"accuracy\", log_file=log_file, model_file=model_file)"
   ]
  },
  {
   "cell_type": "code",
   "execution_count": 8,
   "metadata": {},
   "outputs": [
    {
     "data": {
      "image/png": "[encoded data removed]",
      "text/plain": [
       "<Figure size 432x288 with 1 Axes>"
      ]
     },
     "metadata": {
      "needs_background": "light"
     },
     "output_type": "display_data"
    },
    {
     "data": {
      "image/png": "[encoded data removed]",
      "text/plain": [
       "<Figure size 432x288 with 1 Axes>"
      ]
     },
     "metadata": {
      "needs_background": "light"
     },
     "output_type": "display_data"
    }
   ],
   "source": [
    "training_trajectory = pd.read_csv(log_file)\n",
    "training_trajectory.head()\n",
    "for x in set(map(lambda x: x.split('_')[1], training_trajectory['metric'].unique())):\n",
    "    data = training_trajectory[training_trajectory['metric'].str.contains(x)]\n",
    "    sns.lineplot(data=data, x='step', y='value', hue='metric')\n",
    "    plt.show()\n"
   ]
  },
  {
   "cell_type": "code",
   "execution_count": 9,
   "metadata": {},
   "outputs": [
    {
     "name": "stdout",
     "output_type": "stream",
     "text": [
      "Test Accuracy: 0.945000\n"
     ]
    }
   ],
   "source": [
    "model = model = LSTM(n_unit, num_classes)\n",
    "model.load_weights(model_file)\n",
    "pred = model(x_test, is_training=False)\n",
    "print(\"Test Accuracy: %f\" % accuracy(pred, y_test))"
   ]
  },
  {
   "cell_type": "code",
   "execution_count": 10,
   "metadata": {},
   "outputs": [
    {
     "name": "stdout",
     "output_type": "stream",
     "text": [
      "[[0.6439171  1.6401826 ]\n",
      " [0.9410564  1.5794568 ]\n",
      " [0.42088228 0.42255604]\n",
      " [0.3971467  0.70582205]\n",
      " [0.57400775 1.2909019 ]\n",
      " [0.49976265 1.4122459 ]\n",
      " [0.8897257  1.1088543 ]\n",
      " [0.897558   1.3897247 ]\n",
      " [0.5411644  1.3653569 ]\n",
      " [0.05077849 0.37447566]]\n",
      "Model prediction: 0, Correct: 0\n",
      "[[0.26024488 1.9699527 ]\n",
      " [0.8166467  0.4861699 ]\n",
      " [0.33741784 1.7424264 ]\n",
      " [0.6163024  0.9805419 ]\n",
      " [0.36371362 0.576483  ]\n",
      " [0.7372654  0.14974786]\n",
      " [0.69372964 1.365963  ]\n",
      " [0.41965184 1.5868348 ]\n",
      " [0.35457125 0.31000915]\n",
      " [0.5634515  1.8659533 ]]\n",
      "Model prediction: 1, Correct: 1\n",
      "[[0.10061163 1.2836726 ]\n",
      " [0.27281955 1.5881985 ]\n",
      " [0.8806432  0.50606865]\n",
      " [0.87933207 0.8417861 ]\n",
      " [0.47224852 0.11129989]\n",
      " [0.74319816 0.15618356]\n",
      " [0.5960071  1.5171257 ]\n",
      " [0.29282358 0.6654849 ]\n",
      " [0.47143516 1.7485172 ]\n",
      " [0.37033102 1.8775194 ]]\n",
      "Model prediction: 1, Correct: 1\n"
     ]
    }
   ],
   "source": [
    "a = np.random.choice(len(y_test), 3)\n",
    "\n",
    "predictions = model(x_test)\n",
    "\n",
    "# Display image and model prediction.\n",
    "for i in a:\n",
    "    print(x_test[i])\n",
    "    print(\"Model prediction: %i, Correct: %i\" % (np.argmax(predictions.numpy()[i]), y_test[i]))"
   ]
  },
  {
   "cell_type": "markdown",
   "metadata": {},
   "source": [
    "# text generation\n",
    "*****"
   ]
  },
  {
   "cell_type": "code",
   "execution_count": 11,
   "metadata": {},
   "outputs": [],
   "source": [
    "from keras.utils import np_utils"
   ]
  },
  {
   "cell_type": "code",
   "execution_count": 12,
   "metadata": {},
   "outputs": [],
   "source": [
    "text = open(\"alice.txt\").read().lower()\n",
    "text = text.replace('\\n', ' ').replace('(', ' ').replace(')', ' ').replace('[', ' ').replace(']', ' ').replace('ù', ' ').replace('—', ' ')"
   ]
  },
  {
   "cell_type": "code",
   "execution_count": 13,
   "metadata": {},
   "outputs": [
    {
     "name": "stdout",
     "output_type": "stream",
     "text": [
      "39\n"
     ]
    }
   ],
   "source": [
    "characters = sorted(list(set(text)))\n",
    "\n",
    "n_to_char = {n:char for n, char in enumerate(characters)}\n",
    "char_to_n = {char:n for n, char in enumerate(characters)}\n",
    "factor = len(characters)\n",
    "print(factor)"
   ]
  },
  {
   "cell_type": "code",
   "execution_count": 14,
   "metadata": {},
   "outputs": [
    {
     "data": {
      "text/plain": [
       "{0: ' ',\n",
       " 1: '!',\n",
       " 2: ',',\n",
       " 3: '-',\n",
       " 4: '.',\n",
       " 5: ':',\n",
       " 6: ';',\n",
       " 7: '?',\n",
       " 8: '_',\n",
       " 9: 'a',\n",
       " 10: 'b',\n",
       " 11: 'c',\n",
       " 12: 'd',\n",
       " 13: 'e',\n",
       " 14: 'f',\n",
       " 15: 'g',\n",
       " 16: 'h',\n",
       " 17: 'i',\n",
       " 18: 'j',\n",
       " 19: 'k',\n",
       " 20: 'l',\n",
       " 21: 'm',\n",
       " 22: 'n',\n",
       " 23: 'o',\n",
       " 24: 'p',\n",
       " 25: 'q',\n",
       " 26: 'r',\n",
       " 27: 's',\n",
       " 28: 't',\n",
       " 29: 'u',\n",
       " 30: 'v',\n",
       " 31: 'w',\n",
       " 32: 'x',\n",
       " 33: 'y',\n",
       " 34: 'z',\n",
       " 35: '‘',\n",
       " 36: '’',\n",
       " 37: '“',\n",
       " 38: '”'}"
      ]
     },
     "execution_count": 14,
     "metadata": {},
     "output_type": "execute_result"
    }
   ],
   "source": [
    "n_to_char"
   ]
  },
  {
   "cell_type": "code",
   "execution_count": 15,
   "metadata": {},
   "outputs": [],
   "source": [
    "X = []   # extracted sequences\n",
    "Y = []   # the target: follow up character for each sequence in X\n",
    "length = len(text)\n",
    "seq_length = 50\n",
    "\n",
    "for i in range(0, len(text) - seq_length, 1):\n",
    "    sequence = text[i:i + seq_length]\n",
    "    label = text[i + seq_length]\n",
    "    X.append([char_to_n[char] for char in sequence])\n",
    "    Y.append(char_to_n[label])"
   ]
  },
  {
   "cell_type": "code",
   "execution_count": 16,
   "metadata": {},
   "outputs": [
    {
     "data": {
      "text/plain": [
       "((143072, 50), (143072,))"
      ]
     },
     "execution_count": 16,
     "metadata": {},
     "output_type": "execute_result"
    }
   ],
   "source": [
    "np.shape(X), np.shape(Y)"
   ]
  },
  {
   "cell_type": "code",
   "execution_count": 17,
   "metadata": {},
   "outputs": [
    {
     "data": {
      "text/plain": [
       "((143072, 50, 1), (143072,))"
      ]
     },
     "execution_count": 17,
     "metadata": {},
     "output_type": "execute_result"
    }
   ],
   "source": [
    "X = np.reshape(X, (len(X), seq_length, 1))\n",
    "X = X / float(len(characters))\n",
    "# Y = np_utils.to_categorical(Y)\n",
    "np.shape(X), np.shape(Y)\n"
   ]
  },
  {
   "cell_type": "code",
   "execution_count": 18,
   "metadata": {},
   "outputs": [],
   "source": [
    "X = np.array(X, dtype=np.float32)"
   ]
  },
  {
   "cell_type": "code",
   "execution_count": 19,
   "metadata": {},
   "outputs": [
    {
     "data": {
      "text/plain": [
       "(143072, 50, 1)"
      ]
     },
     "execution_count": 19,
     "metadata": {},
     "output_type": "execute_result"
    }
   ],
   "source": [
    "np.shape(X)"
   ]
  },
  {
   "cell_type": "code",
   "execution_count": 20,
   "metadata": {},
   "outputs": [
    {
     "ename": "KeyboardInterrupt",
     "evalue": "",
     "output_type": "error",
     "traceback": [
      "\u001b[0;31m---------------------------------------------------------------------------\u001b[0m",
      "\u001b[0;31mKeyboardInterrupt\u001b[0m                         Traceback (most recent call last)",
      "\u001b[0;32m<timed exec>\u001b[0m in \u001b[0;36m<module>\u001b[0;34m\u001b[0m\n",
      "\u001b[0;32m<timed exec>\u001b[0m in \u001b[0;36moptimize\u001b[0;34m(model, optimizer, train_data, training_steps, loss_f, metric_f, metric_name, log_file, model_file)\u001b[0m\n",
      "\u001b[0;32m<ipython-input-6-8dc8c705b2c1>\u001b[0m in \u001b[0;36mstep_once\u001b[0;34m(model, loss_f, x, y)\u001b[0m\n\u001b[1;32m     18\u001b[0m         \u001b[0mpred\u001b[0m \u001b[0;34m=\u001b[0m \u001b[0mmodel\u001b[0m\u001b[0;34m.\u001b[0m\u001b[0mcall\u001b[0m\u001b[0;34m(\u001b[0m\u001b[0mx\u001b[0m\u001b[0;34m,\u001b[0m \u001b[0mis_training\u001b[0m\u001b[0;34m=\u001b[0m\u001b[0;32mTrue\u001b[0m\u001b[0;34m)\u001b[0m\u001b[0;34m\u001b[0m\u001b[0;34m\u001b[0m\u001b[0m\n\u001b[1;32m     19\u001b[0m         \u001b[0;31m# Compute loss.\u001b[0m\u001b[0;34m\u001b[0m\u001b[0;34m\u001b[0m\u001b[0;34m\u001b[0m\u001b[0m\n\u001b[0;32m---> 20\u001b[0;31m         \u001b[0mloss\u001b[0m \u001b[0;34m=\u001b[0m \u001b[0mloss_f\u001b[0m\u001b[0;34m(\u001b[0m\u001b[0mpred\u001b[0m\u001b[0;34m,\u001b[0m \u001b[0my\u001b[0m\u001b[0;34m)\u001b[0m\u001b[0;34m\u001b[0m\u001b[0;34m\u001b[0m\u001b[0m\n\u001b[0m\u001b[1;32m     21\u001b[0m \u001b[0;34m\u001b[0m\u001b[0m\n\u001b[1;32m     22\u001b[0m     \u001b[0mtrainable_variables\u001b[0m \u001b[0;34m=\u001b[0m \u001b[0mmodel\u001b[0m\u001b[0;34m.\u001b[0m\u001b[0mtrainable_variables\u001b[0m\u001b[0;34m\u001b[0m\u001b[0;34m\u001b[0m\u001b[0m\n",
      "\u001b[0;32m<ipython-input-6-8dc8c705b2c1>\u001b[0m in \u001b[0;36mcross_entropy_loss\u001b[0;34m(logit_pred, label)\u001b[0m\n\u001b[1;32m      1\u001b[0m \u001b[0;32mdef\u001b[0m \u001b[0mcross_entropy_loss\u001b[0m\u001b[0;34m(\u001b[0m\u001b[0mlogit_pred\u001b[0m\u001b[0;34m,\u001b[0m \u001b[0mlabel\u001b[0m\u001b[0;34m)\u001b[0m\u001b[0;34m:\u001b[0m\u001b[0;34m\u001b[0m\u001b[0;34m\u001b[0m\u001b[0m\n\u001b[1;32m      2\u001b[0m     \u001b[0;31m# Convert labels to int 64 for tf cross-entropy function.\u001b[0m\u001b[0;34m\u001b[0m\u001b[0;34m\u001b[0m\u001b[0;34m\u001b[0m\u001b[0m\n\u001b[0;32m----> 3\u001b[0;31m     \u001b[0mlabel\u001b[0m \u001b[0;34m=\u001b[0m \u001b[0mtf\u001b[0m\u001b[0;34m.\u001b[0m\u001b[0mcast\u001b[0m\u001b[0;34m(\u001b[0m\u001b[0mlabel\u001b[0m\u001b[0;34m,\u001b[0m \u001b[0mtf\u001b[0m\u001b[0;34m.\u001b[0m\u001b[0mint64\u001b[0m\u001b[0;34m)\u001b[0m\u001b[0;34m\u001b[0m\u001b[0;34m\u001b[0m\u001b[0m\n\u001b[0m\u001b[1;32m      4\u001b[0m     \u001b[0;31m# Apply softmax to logits and compute cross-entropy.\u001b[0m\u001b[0;34m\u001b[0m\u001b[0;34m\u001b[0m\u001b[0;34m\u001b[0m\u001b[0m\n\u001b[1;32m      5\u001b[0m     \u001b[0mloss\u001b[0m \u001b[0;34m=\u001b[0m \u001b[0mtf\u001b[0m\u001b[0;34m.\u001b[0m\u001b[0mnn\u001b[0m\u001b[0;34m.\u001b[0m\u001b[0msparse_softmax_cross_entropy_with_logits\u001b[0m\u001b[0;34m(\u001b[0m\u001b[0mlabels\u001b[0m\u001b[0;34m=\u001b[0m\u001b[0mlabel\u001b[0m\u001b[0;34m,\u001b[0m \u001b[0mlogits\u001b[0m\u001b[0;34m=\u001b[0m\u001b[0mlogit_pred\u001b[0m\u001b[0;34m)\u001b[0m\u001b[0;34m\u001b[0m\u001b[0;34m\u001b[0m\u001b[0m\n",
      "\u001b[0;32m~/softwares/anaconda3/envs/cuda/lib/python3.8/site-packages/tensorflow/python/util/dispatch.py\u001b[0m in \u001b[0;36mwrapper\u001b[0;34m(*args, **kwargs)\u001b[0m\n\u001b[1;32m    199\u001b[0m     \u001b[0;34m\"\"\"Call target, and fall back on dispatchers if there is a TypeError.\"\"\"\u001b[0m\u001b[0;34m\u001b[0m\u001b[0;34m\u001b[0m\u001b[0m\n\u001b[1;32m    200\u001b[0m     \u001b[0;32mtry\u001b[0m\u001b[0;34m:\u001b[0m\u001b[0;34m\u001b[0m\u001b[0;34m\u001b[0m\u001b[0m\n\u001b[0;32m--> 201\u001b[0;31m       \u001b[0;32mreturn\u001b[0m \u001b[0mtarget\u001b[0m\u001b[0;34m(\u001b[0m\u001b[0;34m*\u001b[0m\u001b[0margs\u001b[0m\u001b[0;34m,\u001b[0m \u001b[0;34m**\u001b[0m\u001b[0mkwargs\u001b[0m\u001b[0;34m)\u001b[0m\u001b[0;34m\u001b[0m\u001b[0;34m\u001b[0m\u001b[0m\n\u001b[0m\u001b[1;32m    202\u001b[0m     \u001b[0;32mexcept\u001b[0m \u001b[0;34m(\u001b[0m\u001b[0mTypeError\u001b[0m\u001b[0;34m,\u001b[0m \u001b[0mValueError\u001b[0m\u001b[0;34m)\u001b[0m\u001b[0;34m:\u001b[0m\u001b[0;34m\u001b[0m\u001b[0;34m\u001b[0m\u001b[0m\n\u001b[1;32m    203\u001b[0m       \u001b[0;31m# Note: convert_to_eager_tensor currently raises a ValueError, not a\u001b[0m\u001b[0;34m\u001b[0m\u001b[0;34m\u001b[0m\u001b[0;34m\u001b[0m\u001b[0m\n",
      "\u001b[0;32m~/softwares/anaconda3/envs/cuda/lib/python3.8/site-packages/tensorflow/python/ops/math_ops.py\u001b[0m in \u001b[0;36mcast\u001b[0;34m(x, dtype, name)\u001b[0m\n\u001b[1;32m    921\u001b[0m       \u001b[0mx\u001b[0m \u001b[0;34m=\u001b[0m \u001b[0mops\u001b[0m\u001b[0;34m.\u001b[0m\u001b[0mconvert_to_tensor\u001b[0m\u001b[0;34m(\u001b[0m\u001b[0mx\u001b[0m\u001b[0;34m,\u001b[0m \u001b[0mname\u001b[0m\u001b[0;34m=\u001b[0m\u001b[0;34m\"x\"\u001b[0m\u001b[0;34m)\u001b[0m\u001b[0;34m\u001b[0m\u001b[0;34m\u001b[0m\u001b[0m\n\u001b[1;32m    922\u001b[0m       \u001b[0;32mif\u001b[0m \u001b[0mx\u001b[0m\u001b[0;34m.\u001b[0m\u001b[0mdtype\u001b[0m\u001b[0;34m.\u001b[0m\u001b[0mbase_dtype\u001b[0m \u001b[0;34m!=\u001b[0m \u001b[0mbase_type\u001b[0m\u001b[0;34m:\u001b[0m\u001b[0;34m\u001b[0m\u001b[0;34m\u001b[0m\u001b[0m\n\u001b[0;32m--> 923\u001b[0;31m         \u001b[0mx\u001b[0m \u001b[0;34m=\u001b[0m \u001b[0mgen_math_ops\u001b[0m\u001b[0;34m.\u001b[0m\u001b[0mcast\u001b[0m\u001b[0;34m(\u001b[0m\u001b[0mx\u001b[0m\u001b[0;34m,\u001b[0m \u001b[0mbase_type\u001b[0m\u001b[0;34m,\u001b[0m \u001b[0mname\u001b[0m\u001b[0;34m=\u001b[0m\u001b[0mname\u001b[0m\u001b[0;34m)\u001b[0m\u001b[0;34m\u001b[0m\u001b[0;34m\u001b[0m\u001b[0m\n\u001b[0m\u001b[1;32m    924\u001b[0m     \u001b[0;32mif\u001b[0m \u001b[0mx\u001b[0m\u001b[0;34m.\u001b[0m\u001b[0mdtype\u001b[0m\u001b[0;34m.\u001b[0m\u001b[0mis_complex\u001b[0m \u001b[0;32mand\u001b[0m \u001b[0mbase_type\u001b[0m\u001b[0;34m.\u001b[0m\u001b[0mis_floating\u001b[0m\u001b[0;34m:\u001b[0m\u001b[0;34m\u001b[0m\u001b[0;34m\u001b[0m\u001b[0m\n\u001b[1;32m    925\u001b[0m       \u001b[0mlogging\u001b[0m\u001b[0;34m.\u001b[0m\u001b[0mwarn\u001b[0m\u001b[0;34m(\u001b[0m\u001b[0;34m\"Casting complex to real discards imaginary part.\"\u001b[0m\u001b[0;34m)\u001b[0m\u001b[0;34m\u001b[0m\u001b[0;34m\u001b[0m\u001b[0m\n",
      "\u001b[0;32m~/softwares/anaconda3/envs/cuda/lib/python3.8/site-packages/tensorflow/python/ops/gen_math_ops.py\u001b[0m in \u001b[0;36mcast\u001b[0;34m(x, DstT, Truncate, name)\u001b[0m\n\u001b[1;32m   1851\u001b[0m   \u001b[0;32mif\u001b[0m \u001b[0mtld\u001b[0m\u001b[0;34m.\u001b[0m\u001b[0mis_eager\u001b[0m\u001b[0;34m:\u001b[0m\u001b[0;34m\u001b[0m\u001b[0;34m\u001b[0m\u001b[0m\n\u001b[1;32m   1852\u001b[0m     \u001b[0;32mtry\u001b[0m\u001b[0;34m:\u001b[0m\u001b[0;34m\u001b[0m\u001b[0;34m\u001b[0m\u001b[0m\n\u001b[0;32m-> 1853\u001b[0;31m       _result = pywrap_tfe.TFE_Py_FastPathExecute(\n\u001b[0m\u001b[1;32m   1854\u001b[0m         \u001b[0m_ctx\u001b[0m\u001b[0;34m.\u001b[0m\u001b[0m_context_handle\u001b[0m\u001b[0;34m,\u001b[0m \u001b[0mtld\u001b[0m\u001b[0;34m.\u001b[0m\u001b[0mdevice_name\u001b[0m\u001b[0;34m,\u001b[0m \u001b[0;34m\"Cast\"\u001b[0m\u001b[0;34m,\u001b[0m \u001b[0mname\u001b[0m\u001b[0;34m,\u001b[0m \u001b[0mtld\u001b[0m\u001b[0;34m.\u001b[0m\u001b[0mop_callbacks\u001b[0m\u001b[0;34m,\u001b[0m\u001b[0;34m\u001b[0m\u001b[0;34m\u001b[0m\u001b[0m\n\u001b[1;32m   1855\u001b[0m         x, \"DstT\", DstT, \"Truncate\", Truncate)\n",
      "\u001b[0;31mKeyboardInterrupt\u001b[0m: "
     ]
    }
   ],
   "source": [
    "    \n",
    "%%time\n",
    "def optimize(model, optimizer, train_data, training_steps, loss_f=cross_entropy_loss, metric_f=accuracy, metric_name=\"accuracy\", log_file=\"log.csv\", model_file=''):\n",
    "    log = pd.DataFrame(columns=['step', 'metric', 'value'])\n",
    "    best_loss = float(\"inf\")\n",
    "    for i, (batch_x, batch_y) in enumerate(train_data.take(training_steps), 1):\n",
    "        # Run the optimization to update W and b values.\n",
    "        step_once(model, loss_f, batch_x, batch_y)\n",
    "\n",
    "        if i % display_step == 0:\n",
    "            pred = model(batch_x, is_training=True)\n",
    "            loss = loss_f(pred, batch_y)\n",
    "            metric = metric_f(pred, batch_y)\n",
    "           \n",
    "            print(\"step: %i, loss: %f, %s: %f\" % (i, loss.numpy(), metric_name, metric.numpy()))\n",
    "            log = log.append({\"step\":i, \"metric\":\"train_loss\", \"value\": loss.numpy()}, ignore_index=True)\n",
    "            log = log.append({\"step\":i, \"metric\":'train_' + metric_name, \"value\": metric.numpy()}, ignore_index=True)\n",
    "            if(loss < best_loss):\n",
    "                best_loss = loss\n",
    "                model.save_weights(model_file)\n",
    "    log.to_csv(log_file, index=False)\n",
    "    \n",
    "\n",
    "class LSTM2(Model):\n",
    "    # Set layers.\n",
    "    def __init__(self, n_units, num_classes):\n",
    "        super(LSTM2, self).__init__()\n",
    "        # RNN (LSTM) hidden layer.\n",
    "        self.lstm_layer1 = layers.LSTM(units=n_units, kernel_initializer=\"glorot_uniform\", dropout=0, activation='tanh', return_sequences=True)\n",
    "        self.lstm_layer2 = layers.LSTM(units=n_units, kernel_initializer=\"glorot_uniform\", dropout=0, activation='tanh', return_sequences=False)\n",
    "        self.lstm_layer3 = layers.LSTM(units=n_units, kernel_initializer=\"glorot_uniform\", dropout=0, activation='tanh')\n",
    "#         self.dropout = layers.Dropout(0.2)\n",
    "        self.out = layers.Dense(num_classes)\n",
    "\n",
    "    # Set forward pass.\n",
    "    def call(self, x, is_training=False):\n",
    "        # LSTM layer.\n",
    "        x = self.lstm_layer1(x)\n",
    "#         x = np.reshape()\n",
    "        x = self.lstm_layer2(x)\n",
    "#         x = self.lstm_layer3(x)\n",
    "        # Output layer (num_classes).\n",
    "        x = self.out(x)\n",
    "        if not is_training:\n",
    "            # tf cross entropy expect logits without softmax, so only\n",
    "            # apply softmax when not training.\n",
    "            x = tf.nn.softmax(x)\n",
    "        return x\n",
    "    \n",
    "\n",
    "# Data parameters\n",
    "seed = 1000\n",
    "num_classes = 46\n",
    "\n",
    "# Training parameters.\n",
    "learning_rate = 0.01\n",
    "training_steps = 1000000\n",
    "batch_size = 512\n",
    "display_step = 2000\n",
    "prefetch = 1\n",
    "\n",
    "# Network parameters.\n",
    "n_unit = 128\n",
    "log_file='logs/text_pred.csv'\n",
    "model_file='models/text_pred.chkp'\n",
    "\n",
    "train_data = tf.data.Dataset.from_tensor_slices((X, Y))\n",
    "train_data = train_data.repeat().shuffle(seed).batch(batch_size).prefetch(prefetch)\n",
    "\n",
    "model = LSTM2(n_unit, num_classes)\n",
    "\n",
    "optimizer = tf.optimizers.SGD(learning_rate)\n",
    "\n",
    "optimize(model, optimize, train_data, training_steps, loss_f=cross_entropy_loss, metric_f=accuracy, metric_name=\"accuracy\", log_file=log_file, model_file=model_file)"
   ]
  },
  {
   "cell_type": "code",
   "execution_count": 21,
   "metadata": {},
   "outputs": [
    {
     "data": {
      "image/png": "[encoded data removed]",
      "text/plain": [
       "<Figure size 432x288 with 1 Axes>"
      ]
     },
     "metadata": {
      "needs_background": "light"
     },
     "output_type": "display_data"
    },
    {
     "data": {
      "image/png": "[encoded data removed]",
      "text/plain": [
       "<Figure size 432x288 with 1 Axes>"
      ]
     },
     "metadata": {
      "needs_background": "light"
     },
     "output_type": "display_data"
    }
   ],
   "source": [
    "training_trajectory = pd.read_csv(log_file)\n",
    "training_trajectory.head()\n",
    "for x in set(map(lambda x: x.split('_')[1], training_trajectory['metric'].unique())):\n",
    "    data = training_trajectory[training_trajectory['metric'].str.contains(x)]\n",
    "    sns.lineplot(data=data, x='step', y='value', hue='metric')\n",
    "    plt.show()\n"
   ]
  },
  {
   "cell_type": "code",
   "execution_count": 22,
   "metadata": {},
   "outputs": [
    {
     "data": {
      "text/plain": [
       "'ke what i get’ is the same thing as ‘i get what i |would the dorrte, i meant and she would her heard the mookers on a crowt of the goowo the cour, and the mors rane the dormouse ho the king as the cours of the was  who was garted to the semes of the  '"
      ]
     },
     "execution_count": 22,
     "metadata": {},
     "output_type": "execute_result"
    }
   ],
   "source": [
    "model = LSTM2(n_unit, num_classes)\n",
    "model.load_weights(model_file)\n",
    "l = []\n",
    "start  = np.random.choice(len(X))\n",
    "a = X[start]\n",
    "# temp = np.array(np.around(X[start]), dtype=np.int64)\n",
    "temp = list(map(lambda x: n_to_char[int(np.around(x[0]*factor))], a))\n",
    "# print(temp)\n",
    "# for a in temp:\n",
    "# #     print(n_to_char[a[0]])\n",
    "#     l.append(n_to_char[a[0]])\n",
    "#     print(l)\n",
    "l.extend(temp)\n",
    "l.append('|')\n",
    "# print(l)\n",
    "# print(X[start] * 46, temp)\n",
    "start = np.reshape(X[start], [1, 50, 1])\n",
    "for i in range(200):\n",
    "    n = np.argmax(model(start))\n",
    "    l.append(n_to_char[n])\n",
    "    a[0:-1] = a[1:]\n",
    "    \n",
    "    a[-1] = n * 1.0  / factor\n",
    "#     print\n",
    "    \n",
    "''.join(l)"
   ]
  },
  {
   "cell_type": "code",
   "execution_count": null,
   "metadata": {},
   "outputs": [],
   "source": []
  }
 ],
 "metadata": {
  "kernelspec": {
   "display_name": "Python 3",
   "language": "python",
   "name": "python3"
  },
  "language_info": {
   "codemirror_mode": {
    "name": "ipython",
    "version": 3
   },
   "file_extension": ".py",
   "mimetype": "text/x-python",
   "name": "python",
   "nbconvert_exporter": "python",
   "pygments_lexer": "ipython3",
   "version": "3.8.6"
  }
 },
 "nbformat": 4,
 "nbformat_minor": 4
}
